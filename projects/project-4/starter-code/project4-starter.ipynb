{
 "cells": [
  {
   "cell_type": "markdown",
   "metadata": {},
   "source": [
    "# Project 4\n",
    "\n",
    "In this project, you will summarize and present your analysis from Projects 1-3."
   ]
  },
  {
   "cell_type": "markdown",
   "metadata": {},
   "source": [
    "### Intro: Write a problem Statement/ Specific Aim for this project"
   ]
  },
  {
   "cell_type": "markdown",
   "metadata": {},
   "source": [
    "Answer: Determine if there is an association between the rank of applicants' undergraduate schools and their likelihood of admission to UCLA graduate school"
   ]
  },
  {
   "cell_type": "markdown",
   "metadata": {},
   "source": [
    "### Dataset:  Write up a description of your data and any cleaning that was completed"
   ]
  },
  {
   "cell_type": "markdown",
   "metadata": {},
   "source": [
    "Answer: The data is 400 observations with four columns for each of these variables: Admit (yes (1)/no (0); GRE, GPA, and Prestige of Undergraduate School of applicant (1-4 ranking).  There were three observations with missing values.  These observations were dropped from the analysis.  GRE and GPA were notionally normally distributed with some skewing.  Log transformation of the GPA and GRE did not improve the distribution of the data so the untransformed data was used."
   ]
  },
  {
   "cell_type": "markdown",
   "metadata": {
    "collapsed": true
   },
   "source": [
    "### Demo: Provide a table that explains the data by admission status"
   ]
  },
  {
   "cell_type": "markdown",
   "metadata": {},
   "source": [
    "# Mean (STD) or counts by admission status for each variable \n",
    "\n",
    "| Not Admitted | Admitted\n",
    "---| ---|---\n",
    "GPA | 3.35 (.38)  | 3.49 (.37)\n",
    "GRE | 574 (116) | 619 (109)\n",
    "Prestige 1 | 46% | 54%\n",
    "Prestige 2 | 64% | 36%\n",
    "Prestige 3 | 77% | 23%\n",
    "Prestige 4 | 82% | 18%"
   ]
  },
  {
   "cell_type": "markdown",
   "metadata": {},
   "source": [
    "### Methods: Write up the methods used in your analysis"
   ]
  },
  {
   "cell_type": "markdown",
   "metadata": {},
   "source": [
    "Answer: After creating dummy variables for the Prestige variable, a Logistic regression using Statsmodels was performed on the data."
   ]
  },
  {
   "cell_type": "markdown",
   "metadata": {},
   "source": [
    "### Results: Write up your results"
   ]
  },
  {
   "cell_type": "markdown",
   "metadata": {},
   "source": [
    "Answer: All predictor variables (GPA, GRE, and Prestige of applicants' undergraduate school) were found to be statistically significant with p-values below 0.05.  Both GRE and GPA have a positive relationship with chances of admission.  The prestige of an applicant's undergraduate school had a significant impact on the probability of admission.  Students from top ranked schools had significantly higher likelihood of admission, specifically 3.08 times more, than applicants from lesser ranked schools.  "
   ]
  },
  {
   "cell_type": "markdown",
   "metadata": {},
   "source": [
    "### Visuals: Provide a table or visualization of these results"
   ]
  },
  {
   "cell_type": "code",
   "execution_count": 20,
   "metadata": {},
   "outputs": [
    {
     "data": {
      "text/html": [
       "<img src=\"http://blog.yhat.com/static/img/isolated_rank_and_gre.png\" width=\"500\" height=\"500\"/>"
      ],
      "text/plain": [
       "<IPython.core.display.Image object>"
      ]
     },
     "execution_count": 20,
     "metadata": {},
     "output_type": "execute_result"
    }
   ],
   "source": [
    "from IPython.display import Image\n",
    "from IPython.core.display import HTML \n",
    "Image(url= \"http://blog.yhat.com/static/img/isolated_rank_and_gre.png\", width=500, height=500)"
   ]
  },
  {
   "cell_type": "code",
   "execution_count": 21,
   "metadata": {},
   "outputs": [
    {
     "data": {
      "text/html": [
       "<img src=\"http://blog.yhat.com/static/img/isolated_rank_and_gpa.png\" width=\"500\" height=\"500\"/>"
      ],
      "text/plain": [
       "<IPython.core.display.Image object>"
      ]
     },
     "execution_count": 21,
     "metadata": {},
     "output_type": "execute_result"
    }
   ],
   "source": [
    "Image(url= \"http://blog.yhat.com/static/img/isolated_rank_and_gpa.png\", width=500, height=500)"
   ]
  },
  {
   "cell_type": "markdown",
   "metadata": {},
   "source": [
    "### Discussion: Write up your discussion and future steps"
   ]
  },
  {
   "cell_type": "markdown",
   "metadata": {},
   "source": [
    "Answer: This logistic regression analysis strongly shows the impact of the prestige of an applicant's undergraduate has on the chances of admission to UCLA graduate schools.  It also demonstrates the positive relationship between gre and gpa with probability of admission.  Future steps would be to expand this analysis to other years of applicant pools at UCLA and to include other graduate universities to see if this trend holds across graduate schools or is just a UCLA phenomenon."
   ]
  }
 ],
 "metadata": {
  "kernelspec": {
   "display_name": "Python 3",
   "language": "python",
   "name": "python3"
  },
  "language_info": {
   "codemirror_mode": {
    "name": "ipython",
    "version": 3
   },
   "file_extension": ".py",
   "mimetype": "text/x-python",
   "name": "python",
   "nbconvert_exporter": "python",
   "pygments_lexer": "ipython3",
   "version": "3.6.2"
  }
 },
 "nbformat": 4,
 "nbformat_minor": 1
}
