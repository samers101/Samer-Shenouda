{
 "cells": [
  {
   "cell_type": "markdown",
   "metadata": {},
   "source": [
    "### Class 7- Starter code\n"
   ]
  },
  {
   "cell_type": "markdown",
   "metadata": {},
   "source": [
    "## Demo: Residual Error (15 mins)"
   ]
  },
  {
   "cell_type": "code",
   "execution_count": 2,
   "metadata": {},
   "outputs": [
    {
     "name": "stdout",
     "output_type": "stream",
     "text": [
      "P Values: [  9.15540205e-26]\n",
      "Coefficients: [ 0.00096395]\n",
      "y-intercept: 0.0859173102936\n",
      "R-Squared: 0.871949198087\n",
      "Mean squared error: 0.119901525171\n"
     ]
    },
    {
     "data": {
      "image/png": "[encoded data removed]",
      "text/plain": [
       "<matplotlib.figure.Figure at 0x1a11c772e8>"
      ]
     },
     "metadata": {},
     "output_type": "display_data"
    }
   ],
   "source": [
    "%matplotlib inline\n",
    "import numpy as np\n",
    "import pandas as pd\n",
    "from matplotlib import pyplot as plt\n",
    "import seaborn as sns\n",
    "sns.set_style(\"darkgrid\")\n",
    "from sklearn import linear_model, metrics\n",
    "\n",
    "# read in the mammal dataset\n",
    "wd = '../dataset/msleep/'\n",
    "mammals = pd.read_csv(wd+'msleep.csv')\n",
    "mammals = mammals[mammals.brainwt.notnull()].copy()\n",
    "\n",
    "from sklearn import feature_selection, linear_model\n",
    "\n",
    "def get_linear_model_metrics(X, y, algo):\n",
    "    # get the pvalue of X given y. Ignore f-stat for now.\n",
    "    pvals = feature_selection.f_regression(X, y)[1]\n",
    "    # start with an empty linear regression object\n",
    "    # .fit() runs the linear regression function on X and y\n",
    "    algo.fit(X,y)\n",
    "    residuals = (y-algo.predict(X)).values\n",
    "\n",
    "    # print the necessary values\n",
    "    print ('P Values:', pvals)\n",
    "    print ('Coefficients:', algo.coef_)\n",
    "    print ('y-intercept:', algo.intercept_)\n",
    "    print ('R-Squared:', algo.score(X,y))\n",
    "    print ('Mean squared error:', metrics.mean_squared_error(y, algo.predict(X)))\n",
    "    plt.figure()\n",
    "    plt.hist(residuals, bins=int(np.ceil(np.sqrt(len(y)))))\n",
    "    \n",
    "    # keep the model\n",
    "    return algo\n",
    "\n",
    "\n",
    "X = mammals[['bodywt']]\n",
    "y = mammals['brainwt']\n",
    "lm = linear_model.LinearRegression()\n",
    "lm = get_linear_model_metrics(X, y, lm)\n"
   ]
  },
  {
   "cell_type": "markdown",
   "metadata": {},
   "source": [
    "## Cross validation\n",
    "#### Intro to cross validation with bike share data from last time. We will be modeling casual ridership. "
   ]
  },
  {
   "cell_type": "code",
   "execution_count": 3,
   "metadata": {},
   "outputs": [
    {
     "name": "stderr",
     "output_type": "stream",
     "text": [
      "/Applications/anaconda3/lib/python3.6/site-packages/sklearn/cross_validation.py:41: DeprecationWarning: This module was deprecated in version 0.18 in favor of the model_selection module into which all the refactored classes and functions are moved. Also note that the interface of the new CV iterators are different from that of this module. This module will be removed in 0.20.\n",
      "  \"This module will be removed in 0.20.\", DeprecationWarning)\n"
     ]
    }
   ],
   "source": [
    "from sklearn import cross_validation\n",
    "wd = '../dataset/'\n",
    "bikeshare = pd.read_csv(wd + 'bikeshare.csv')"
   ]
  },
  {
   "cell_type": "markdown",
   "metadata": {},
   "source": [
    "####Create dummy variables and set outcome (dependent) variable"
   ]
  },
  {
   "cell_type": "code",
   "execution_count": 4,
   "metadata": {
    "collapsed": true
   },
   "outputs": [],
   "source": [
    "weather = pd.get_dummies(bikeshare.weathersit, prefix='weather')  # alternative short-cut way!\n",
    "modeldata = bikeshare[['temp', 'hum']].join(weather[['weather_1', 'weather_2', 'weather_3']])\n",
    "y = bikeshare.casual "
   ]
  },
  {
   "cell_type": "markdown",
   "metadata": {},
   "source": [
    "#### Create a cross valiation with 5 folds"
   ]
  },
  {
   "cell_type": "code",
   "execution_count": 6,
   "metadata": {
    "collapsed": true
   },
   "outputs": [],
   "source": [
    "kf = cross_validation.KFold(len(modeldata), n_folds=5, shuffle=True)"
   ]
  },
  {
   "cell_type": "code",
   "execution_count": 8,
   "metadata": {},
   "outputs": [
    {
     "name": "stdout",
     "output_type": "stream",
     "text": [
      "~~~~ CROSS VALIDATION each fold ~~~~\n",
      "train indices [    0     1     2 ..., 17376 17377 17378]\n",
      "test indices [    4    10    11 ..., 17354 17362 17372]\n",
      "Model 1\n",
      "MSE: 1764.70730657\n",
      "R2: 0.311871724642\n",
      "train indices [    0     1     2 ..., 17376 17377 17378]\n",
      "test indices [    7    15    22 ..., 17359 17368 17373]\n",
      "Model 2\n",
      "MSE: 1599.03739999\n",
      "R2: 0.311895524413\n",
      "train indices [    0     1     3 ..., 17375 17376 17378]\n",
      "test indices [    2     6     9 ..., 17369 17370 17377]\n",
      "Model 3\n",
      "MSE: 1628.03533643\n",
      "R2: 0.311900135033\n",
      "train indices [    0     2     4 ..., 17375 17377 17378]\n",
      "test indices [    1     3     8 ..., 17365 17374 17376]\n",
      "Model 4\n",
      "MSE: 1678.57389441\n",
      "R2: 0.311902882492\n",
      "train indices [    1     2     3 ..., 17374 17376 17377]\n",
      "test indices [    0     5    13 ..., 17371 17375 17378]\n",
      "Model 5\n",
      "MSE: 1696.83694009\n",
      "R2: 0.311906943674\n",
      "~~~~ SUMMARY OF CROSS VALIDATION ~~~~\n",
      "Mean of MSE for all folds: 1673.4381755\n",
      "Mean of R2 for all folds: 0.311895442051\n"
     ]
    }
   ],
   "source": [
    "mse_values = []\n",
    "scores = []\n",
    "n= 0\n",
    "print (\"~~~~ CROSS VALIDATION each fold ~~~~\")\n",
    "for train_index, test_index in kf:\n",
    "    print (\"train indices\", train_index)\n",
    "    print ('test indices', test_index)\n",
    "    lm = linear_model.LinearRegression().fit(modeldata.iloc[train_index], y.iloc[train_index])\n",
    "    mse_values.append(metrics.mean_squared_error(y.iloc[test_index], lm.predict(modeldata.iloc[test_index])))\n",
    "    scores.append(lm.score(modeldata, y))\n",
    "    n+=1\n",
    "    print ('Model', n)\n",
    "    print ('MSE:', mse_values[n-1])\n",
    "    print ('R2:', scores[n-1])\n",
    "\n",
    "\n",
    "print (\"~~~~ SUMMARY OF CROSS VALIDATION ~~~~\")\n",
    "print ('Mean of MSE for all folds:', np.mean(mse_values))\n",
    "print ('Mean of R2 for all folds:', np.mean(scores))"
   ]
  },
  {
   "cell_type": "code",
   "execution_count": 15,
   "metadata": {
    "collapsed": true
   },
   "outputs": [],
   "source": [
    "kfolds = range (2,51,2)\n",
    "mean_mse=[]\n",
    "mean_r2=[]\n",
    "for each_fold in kfolds:\n",
    "    kf = cross_validation.KFold(len(modeldata), n_folds=each_fold, shuffle=True)\n",
    "    mse_values = []\n",
    "    scores = []\n",
    "    n= 0\n",
    "    for train_index, test_index in kf:\n",
    "        lm = linear_model.LinearRegression().fit(modeldata.iloc[train_index], y.iloc[train_index])\n",
    "        mse_values.append(metrics.mean_squared_error(y.iloc[test_index], lm.predict(modeldata.iloc[test_index])))\n",
    "        scores.append(lm.score(modeldata, y))\n",
    "        n+=1\n",
    "\n",
    "    mean_mse.append(np.mean(mse_values))\n",
    "    mean_r2.append(np.mean(scores))"
   ]
  },
  {
   "cell_type": "code",
   "execution_count": 16,
   "metadata": {},
   "outputs": [
    {
     "name": "stdout",
     "output_type": "stream",
     "text": [
      "[1676.1186511678056, 1673.1948643867747, 1674.6587083430832, 1673.3549158266587, 1673.1314109803257, 1673.3681657999514, 1673.7895086474716, 1673.3223895187907, 1673.1203458764364, 1673.5532373286501, 1673.5149655088974, 1673.4355472233467, 1673.5965244411723, 1673.2977928076727, 1673.455095931359, 1673.4831172187623, 1673.3777619817658, 1673.5389986331556, 1673.5144898086019, 1673.3043985869813, 1673.4917042767959, 1673.3803709705512, 1673.2962569703959, 1673.4078649016355, 1673.4807586158472]\n",
      "[0.31144964106863898, 0.31189826365884687, 0.31185634489316527, 0.31191301712691399, 0.31192277502209736, 0.31192054626426252, 0.31191633018124992, 0.31192457256535644, 0.31192814803319896, 0.31192433673207992, 0.31192563305906051, 0.31192705604810445, 0.31192679698953041, 0.31192943181692118, 0.31192833274248494, 0.31192885396919745, 0.31192979635593915, 0.31192889294343362, 0.31192949216450178, 0.31193038559277136, 0.31193041084387607, 0.31193089974956723, 0.31193135648753784, 0.31193089083157027, 0.31193102638170556]\n"
     ]
    }
   ],
   "source": [
    "print (mean_mse)\n",
    "print (mean_r2)"
   ]
  },
  {
   "cell_type": "code",
   "execution_count": 12,
   "metadata": {},
   "outputs": [
    {
     "name": "stdout",
     "output_type": "stream",
     "text": [
      "~~~~ Single Model ~~~~\n",
      "MSE of single model: 1672.58110765\n",
      "R2:  0.311934605989\n"
     ]
    }
   ],
   "source": [
    "lm = linear_model.LinearRegression().fit(modeldata, y)\n",
    "print \"~~~~ Single Model ~~~~\"\n",
    "print 'MSE of single model:', metrics.mean_squared_error(y, lm.predict(modeldata))\n",
    "print 'R2: ', lm.score(modeldata, y)"
   ]
  },
  {
   "cell_type": "markdown",
   "metadata": {},
   "source": [
    "### Check\n",
    "While the cross validated approach here generated more overall error, which of the two approaches would predict new data more accurately: the single model or the cross validated, averaged one? Why?\n"
   ]
  },
  {
   "cell_type": "markdown",
   "metadata": {},
   "source": [
    "Answer: "
   ]
  },
  {
   "cell_type": "markdown",
   "metadata": {},
   "source": [
    "### There are ways to improve our model with regularization. \n",
    "Let's check out the effects on MSE and R2"
   ]
  },
  {
   "cell_type": "code",
   "execution_count": 17,
   "metadata": {},
   "outputs": [
    {
     "name": "stdout",
     "output_type": "stream",
     "text": [
      "~~~ OLS ~~~\n",
      "OLS MSE:  1672.58110765\n",
      "OLS R2: 0.311934605989\n",
      "~~~ Lasso ~~~\n",
      "Lasso MSE:  1725.41581608\n",
      "Lasso R2: 0.290199495922\n",
      "~~~ Ridge ~~~\n",
      "Ridge MSE:  1672.60490113\n",
      "Ridge R2: 0.311924817843\n"
     ]
    }
   ],
   "source": [
    "lm = linear_model.LinearRegression().fit(modeldata, y)\n",
    "print (\"~~~ OLS ~~~\")\n",
    "print ('OLS MSE: ', metrics.mean_squared_error(y, lm.predict(modeldata)))\n",
    "print ('OLS R2:', lm.score(modeldata, y))\n",
    "\n",
    "lm = linear_model.Lasso().fit(modeldata, y)\n",
    "print (\"~~~ Lasso ~~~\")\n",
    "print ('Lasso MSE: ', metrics.mean_squared_error(y, lm.predict(modeldata)))\n",
    "print ('Lasso R2:', lm.score(modeldata, y))\n",
    "\n",
    "lm = linear_model.Ridge().fit(modeldata, y)\n",
    "print (\"~~~ Ridge ~~~\")\n",
    "print ('Ridge MSE: ', metrics.mean_squared_error(y, lm.predict(modeldata)))\n",
    "print ('Ridge R2:', lm.score(modeldata, y))"
   ]
  },
  {
   "cell_type": "markdown",
   "metadata": {},
   "source": [
    "### Figuring out the alphas can be done by \"hand\""
   ]
  },
  {
   "cell_type": "code",
   "execution_count": 18,
   "metadata": {},
   "outputs": [
    {
     "name": "stdout",
     "output_type": "stream",
     "text": [
      "Alpha: 1e-10\n",
      "[ 112.67353849  -83.99400867  -14.13184385  -10.45474561  -11.1736308 ]\n",
      "1672.60030785\n",
      "Alpha: 1e-09\n",
      "[ 112.67353845  -83.99400863  -14.13183603  -10.45473779  -11.17362296]\n",
      "1672.60030788\n",
      "Alpha: 1e-08\n"
     ]
    },
    {
     "name": "stderr",
     "output_type": "stream",
     "text": [
      "/Applications/anaconda3/lib/python3.6/site-packages/sklearn/linear_model/coordinate_descent.py:491: ConvergenceWarning: Objective did not converge. You might want to increase the number of iterations. Fitting data with very small alpha may cause precision problems.\n",
      "  ConvergenceWarning)\n"
     ]
    },
    {
     "name": "stdout",
     "output_type": "stream",
     "text": [
      "[ 112.67353812  -83.99400832  -14.13175774  -10.45465952  -11.17354466]\n",
      "1672.60030816\n",
      "Alpha: 1e-07\n",
      "[ 112.67353477  -83.99400521  -14.13097487  -10.4538768   -11.17276161]\n",
      "1672.60031101\n",
      "Alpha: 1e-06\n",
      "[ 112.67350128  -83.99397405  -14.12314614  -10.4460497   -11.16493108]\n",
      "1672.60033951\n",
      "Alpha: 1e-05\n",
      "[ 112.67316634  -83.9936625   -14.04485887  -10.36777861  -11.08662579]\n",
      "1672.60062569\n",
      "Alpha: 0.0001\n",
      "[ 112.66981758  -83.99054765  -13.26239352   -9.58547483  -10.30397994]\n",
      "1672.60360255\n",
      "Alpha: 0.001\n",
      "[ 112.63635975  -83.9594323    -5.45806601   -1.78275411   -2.49783247]\n",
      "1672.64489673\n",
      "Alpha: 0.01\n",
      "[ 112.39077334  -83.66325507   -2.90812399    0.66752444   -0.        ]\n",
      "1672.66932453\n",
      "Alpha: 0.1\n",
      "[ 109.93593998  -80.45002088   -1.82328187    0.77974702   -0.        ]\n",
      "1673.39565389\n",
      "Alpha: 1.0\n",
      "[ 86.81079432 -55.76414394   0.          -0.          -0.        ]\n",
      "1725.41581608\n",
      "Alpha: 10.0\n",
      "[ 0. -0.  0. -0. -0.]\n",
      "2430.84614081\n",
      "Alpha: 100.0\n",
      "[ 0. -0.  0. -0. -0.]\n",
      "2430.84614081\n",
      "Alpha: 1000.0\n",
      "[ 0. -0.  0. -0. -0.]\n",
      "2430.84614081\n",
      "Alpha: 10000.0\n",
      "[ 0. -0.  0. -0. -0.]\n",
      "2430.84614081\n",
      "Alpha: 100000.0\n",
      "[ 0. -0.  0. -0. -0.]\n",
      "2430.84614081\n",
      "Alpha: 1000000.0\n",
      "[ 0. -0.  0. -0. -0.]\n",
      "2430.84614081\n",
      "Alpha: 10000000.0\n",
      "[ 0. -0.  0. -0. -0.]\n",
      "2430.84614081\n",
      "Alpha: 100000000.0\n",
      "[ 0. -0.  0. -0. -0.]\n",
      "2430.84614081\n",
      "Alpha: 1000000000.0\n",
      "[ 0. -0.  0. -0. -0.]\n",
      "2430.84614081\n",
      "Alpha: 10000000000.0\n",
      "[ 0. -0.  0. -0. -0.]\n",
      "2430.84614081\n"
     ]
    }
   ],
   "source": [
    "alphas = np.logspace(-10, 10, 21)\n",
    "for a in alphas:\n",
    "    print ('Alpha:', a)\n",
    "    lm = linear_model.Lasso(alpha=a)\n",
    "    lm.fit(modeldata, y)\n",
    "    print (lm.coef_)\n",
    "    print (metrics.mean_squared_error(y, lm.predict(modeldata)))"
   ]
  },
  {
   "cell_type": "markdown",
   "metadata": {},
   "source": [
    "### Or we can use grid search to make this faster"
   ]
  },
  {
   "cell_type": "code",
   "execution_count": 20,
   "metadata": {},
   "outputs": [
    {
     "data": {
      "text/plain": [
       "GridSearchCV(cv=None, error_score='raise',\n",
       "       estimator=Ridge(alpha=1.0, copy_X=True, fit_intercept=True, max_iter=None,\n",
       "   normalize=False, random_state=None, solver='auto', tol=0.001),\n",
       "       fit_params={}, iid=True, n_jobs=1,\n",
       "       param_grid={'alpha': array([  1.00000e-10,   1.00000e-09,   1.00000e-08,   1.00000e-07,\n",
       "         1.00000e-06,   1.00000e-05,   1.00000e-04,   1.00000e-03,\n",
       "         1.00000e-02,   1.00000e-01,   1.00000e+00,   1.00000e+01,\n",
       "         1.00000e+02,   1.00000e+03,   1.00000e+04,   1.00000e+05,\n",
       "         1.00000e+06,   1.00000e+07,   1.00000e+08,   1.00000e+09,\n",
       "         1.00000e+10])},\n",
       "       pre_dispatch='2*n_jobs', refit=True,\n",
       "       scoring='neg_mean_squared_error', verbose=0)"
      ]
     },
     "execution_count": 20,
     "metadata": {},
     "output_type": "execute_result"
    }
   ],
   "source": [
    "from sklearn import grid_search\n",
    "\n",
    "alphas = np.logspace(-10, 10, 21)\n",
    "gs = grid_search.GridSearchCV(\n",
    "    estimator=linear_model.Ridge(),\n",
    "    param_grid={'alpha': alphas},\n",
    "    scoring='neg_mean_squared_error')\n",
    "\n",
    "gs.fit(modeldata, y)\n"
   ]
  },
  {
   "cell_type": "markdown",
   "metadata": {},
   "source": [
    "##### Best score "
   ]
  },
  {
   "cell_type": "code",
   "execution_count": 21,
   "metadata": {},
   "outputs": [
    {
     "name": "stdout",
     "output_type": "stream",
     "text": [
      "-1814.0936913337957\n"
     ]
    }
   ],
   "source": [
    "print (gs.best_score_)"
   ]
  },
  {
   "cell_type": "markdown",
   "metadata": {},
   "source": [
    "##### mean squared error here comes in negative, so let's make it positive."
   ]
  },
  {
   "cell_type": "code",
   "execution_count": 17,
   "metadata": {},
   "outputs": [
    {
     "name": "stdout",
     "output_type": "stream",
     "text": [
      "1814.09369133\n"
     ]
    }
   ],
   "source": [
    "print -gs.best_score_ "
   ]
  },
  {
   "cell_type": "markdown",
   "metadata": {},
   "source": [
    "##### explains which grid_search setup worked best"
   ]
  },
  {
   "cell_type": "code",
   "execution_count": 18,
   "metadata": {},
   "outputs": [
    {
     "name": "stdout",
     "output_type": "stream",
     "text": [
      "Ridge(alpha=10.0, copy_X=True, fit_intercept=True, max_iter=None,\n",
      "   normalize=False, random_state=None, solver='auto', tol=0.001)\n"
     ]
    }
   ],
   "source": [
    "print gs.best_estimator_ "
   ]
  },
  {
   "cell_type": "markdown",
   "metadata": {},
   "source": [
    "##### shows all the grid pairings and their performances."
   ]
  },
  {
   "cell_type": "code",
   "execution_count": 83,
   "metadata": {},
   "outputs": [
    {
     "name": "stdout",
     "output_type": "stream",
     "text": [
      "[mean: -1817.58711, std: 542.14315, params: {'alpha': 1e-10}, mean: -1817.58711, std: 542.14315, params: {'alpha': 1.0000000000000001e-09}, mean: -1817.58711, std: 542.14315, params: {'alpha': 1e-08}, mean: -1817.58711, std: 542.14315, params: {'alpha': 9.9999999999999995e-08}, mean: -1817.58711, std: 542.14315, params: {'alpha': 9.9999999999999995e-07}, mean: -1817.58711, std: 542.14317, params: {'alpha': 1.0000000000000001e-05}, mean: -1817.58707, std: 542.14331, params: {'alpha': 0.0001}, mean: -1817.58663, std: 542.14477, params: {'alpha': 0.001}, mean: -1817.58230, std: 542.15933, params: {'alpha': 0.01}, mean: -1817.54318, std: 542.30102, params: {'alpha': 0.10000000000000001}, mean: -1817.20111, std: 543.63587, params: {'alpha': 1.0}, mean: -1814.09369, std: 556.35563, params: {'alpha': 10.0}, mean: -1818.51694, std: 653.68607, params: {'alpha': 100.0}, mean: -2125.58777, std: 872.45270, params: {'alpha': 1000.0}, mean: -2458.08836, std: 951.30428, params: {'alpha': 10000.0}, mean: -2532.21151, std: 962.80083, params: {'alpha': 100000.0}, mean: -2541.38479, std: 963.98339, params: {'alpha': 1000000.0}, mean: -2542.32833, std: 964.10141, params: {'alpha': 10000000.0}, mean: -2542.42296, std: 964.11321, params: {'alpha': 100000000.0}, mean: -2542.43242, std: 964.11439, params: {'alpha': 1000000000.0}, mean: -2542.43337, std: 964.11450, params: {'alpha': 10000000000.0}]\n"
     ]
    }
   ],
   "source": [
    "print gs.grid_scores_ "
   ]
  },
  {
   "cell_type": "code",
   "execution_count": 27,
   "metadata": {},
   "outputs": [
    {
     "data": {
      "text/plain": [
       "GridSearchCV(cv=None, error_score='raise',\n",
       "       estimator=Ridge(alpha=1.0, copy_X=True, fit_intercept=True, max_iter=None,\n",
       "   normalize=False, random_state=None, solver='auto', tol=0.001),\n",
       "       fit_params={}, iid=True, n_jobs=1,\n",
       "       param_grid={'alpha': array([  1.00000e-10,   1.00000e-09,   1.00000e-08,   1.00000e-07,\n",
       "         1.00000e-06,   1.00000e-05,   1.00000e-04,   1.00000e-03,\n",
       "         1.00000e-02,   1.00000e-01,   1.00000e+00,   1.00000e+01,\n",
       "         1.00000e+02,   1.00000e+03,   1.00000e+04,   1.00000e+05,\n",
       "         1.00000e+06,   1.00000e+07,   1.00000e+08,   1.00000e+09,\n",
       "         1.00000e+10]), 'fit_intercept': [True, False]},\n",
       "       pre_dispatch='2*n_jobs', refit=True,\n",
       "       scoring='neg_mean_squared_error', verbose=0)"
      ]
     },
     "execution_count": 27,
     "metadata": {},
     "output_type": "execute_result"
    }
   ],
   "source": [
    "from sklearn import grid_search\n",
    "\n",
    "alphas = np.logspace(-10, 10, 21)\n",
    "gs = grid_search.GridSearchCV(\n",
    "    estimator=linear_model.Ridge(),\n",
    "    param_grid={'alpha': alphas, 'fit_intercept':[True,False]},\n",
    "    scoring='neg_mean_squared_error')\n",
    "\n",
    "gs.fit(modeldata, y)"
   ]
  },
  {
   "cell_type": "code",
   "execution_count": 28,
   "metadata": {},
   "outputs": [
    {
     "name": "stdout",
     "output_type": "stream",
     "text": [
      "Ridge(alpha=10.0, copy_X=True, fit_intercept=False, max_iter=None,\n",
      "   normalize=False, random_state=None, solver='auto', tol=0.001)\n"
     ]
    }
   ],
   "source": [
    "print (gs.best_estimator_)"
   ]
  },
  {
   "cell_type": "markdown",
   "metadata": {},
   "source": [
    "## Gradient Descent"
   ]
  },
  {
   "cell_type": "code",
   "execution_count": 2,
   "metadata": {},
   "outputs": [
    {
     "name": "stdout",
     "output_type": "stream",
     "text": [
      "5.2 is better than 6.2\n",
      "found better solution! using 5.2\n",
      "4.2 is better than 5.2\n",
      "found better solution! using 4.2\n",
      "3.2 is better than 4.2\n",
      "found better solution! using 3.2\n",
      "2.2 is better than 3.2\n",
      "found better solution! using 2.2\n",
      "1.2 is better than 2.2\n",
      "found better solution! using 1.2\n",
      "0.2 is better than 1.2\n",
      "found better solution! using 0.2\n",
      "6.0 is closest to 6.2\n"
     ]
    }
   ],
   "source": [
    "import numpy as np\n",
    "\n",
    "num_to_approach, start, steps, optimized = 6.2, 0., [-1, 1], False\n",
    "while not optimized:\n",
    "    current_distance = num_to_approach - start\n",
    "    got_better = False\n",
    "    next_steps = [start + i for i in steps]\n",
    "    for n in next_steps:\n",
    "        distance = np.abs(num_to_approach - n)\n",
    "        if distance < current_distance:\n",
    "            got_better = True\n",
    "            print distance, 'is better than', current_distance\n",
    "            current_distance = distance\n",
    "            start = n\n",
    "    if got_better:\n",
    "        print 'found better solution! using', current_distance\n",
    "        n += 1\n",
    "    else:\n",
    "        optimized = True\n",
    "        print start, 'is closest to', num_to_approach\n"
   ]
  },
  {
   "cell_type": "markdown",
   "metadata": {},
   "source": [
    "### Bonus: \n",
    "implement a stopping point, similar to what n_iter would do in gradient descent when we've reached \"good enough\""
   ]
  },
  {
   "cell_type": "code",
   "execution_count": null,
   "metadata": {
    "collapsed": true
   },
   "outputs": [],
   "source": [
    "\n",
    "\n"
   ]
  },
  {
   "cell_type": "markdown",
   "metadata": {},
   "source": [
    "## Demo: Application of Gradient Descent "
   ]
  },
  {
   "cell_type": "code",
   "execution_count": 117,
   "metadata": {},
   "outputs": [
    {
     "name": "stdout",
     "output_type": "stream",
     "text": [
      "Gradient Descent R2: 0.30853517891\n",
      "Gradient Descent MSE: 1680.84459185\n"
     ]
    }
   ],
   "source": [
    "lm = linear_model.SGDRegressor()\n",
    "lm.fit(modeldata, y)\n",
    "print \"Gradient Descent R2:\", lm.score(modeldata, y)\n",
    "print \"Gradient Descent MSE:\", metrics.mean_squared_error(y, lm.predict(modeldata))"
   ]
  },
  {
   "cell_type": "markdown",
   "metadata": {},
   "source": [
    "### Check: Untuned, how well did gradient descent perform compared to OLS?"
   ]
  },
  {
   "cell_type": "markdown",
   "metadata": {},
   "source": [
    "Answer: "
   ]
  },
  {
   "cell_type": "markdown",
   "metadata": {},
   "source": [
    "# Independent Practice: Bike data revisited\n",
    "\n",
    "There are tons of ways to approach a regression problem. The regularization techniques appended to ordinary least squares optimizes the size of coefficients to best account for error. Gradient Descent also introduces learning rate (how aggressively do we solve the problem), epsilon (at what point do we say the error margin is acceptable), and iterations (when should we stop no matter what?)\n",
    "\n",
    "For this deliverable, our goals are to:\n",
    "\n",
    "- implement the gradient descent approach to our bike-share modeling problem,\n",
    "- show how gradient descent solves and optimizes the solution,\n",
    "- demonstrate the grid_search module!\n",
    "\n",
    "While exploring the Gradient Descent regressor object, you'll build a grid search using the stochastic gradient descent estimator for the bike-share data set. Continue with either the model you evaluated last class or the simpler one from today. In particular, be sure to implement the \"param_grid\" in the grid search to get answers for the following questions:\n",
    "\n",
    "- With a set of alpha values between 10^-10 and 10^-1, how does the mean squared error change?\n",
    "- Based on the data, we know when to properly use l1 vs l2 regularization. By using a grid search with l1_ratios between 0 and 1 (increasing every 0.05), does that statement hold true? If not, did gradient descent have enough iterations?\n",
    "- How do these results change when you alter the learning rate (eta0)?\n",
    "\n",
    "**Bonus**: Can you see the advantages and disadvantages of using gradient descent after finishing this exercise?"
   ]
  },
  {
   "cell_type": "markdown",
   "metadata": {},
   "source": [
    "### Starter Code"
   ]
  },
  {
   "cell_type": "code",
   "execution_count": 35,
   "metadata": {},
   "outputs": [
    {
     "name": "stderr",
     "output_type": "stream",
     "text": [
      "/Applications/anaconda3/lib/python3.6/site-packages/sklearn/linear_model/stochastic_gradient.py:84: FutureWarning: max_iter and tol parameters have been added in <class 'sklearn.linear_model.stochastic_gradient.SGDRegressor'> in 0.19. If both are left unset, they default to max_iter=5 and tol=None. If tol is not None, max_iter defaults to max_iter=1000. From 0.21, default max_iter will be 1000, and default tol will be 1e-3.\n",
      "  \"and default tol will be 1e-3.\" % type(self), FutureWarning)\n"
     ]
    },
    {
     "name": "stdout",
     "output_type": "stream",
     "text": [
      "BEST ESTIMATOR\n",
      "-1674.4088012904786\n",
      "SGDRegressor(alpha=0.0001, average=False, epsilon=0.1,\n",
      "       eta0=0.031582350167557775, fit_intercept=True, l1_ratio=0.15,\n",
      "       learning_rate='invscaling', loss='squared_loss', max_iter=5,\n",
      "       n_iter=None, penalty='l1', power_t=0.25, random_state=None,\n",
      "       shuffle=True, tol=None, verbose=0, warm_start=False)\n",
      "ALL ESTIMATORS\n",
      "[mean: -2133.40151, std: 84.89566, params: {'alpha': 1e-10, 'eta0': 0.001, 'penalty': 'l1'}, mean: -2133.29420, std: 84.84440, params: {'alpha': 1e-10, 'eta0': 0.001, 'penalty': 'l2'}, mean: -2132.80561, std: 84.82250, params: {'alpha': 1e-10, 'eta0': 0.001, 'penalty': 'elasticnet'}, mean: -1980.94616, std: 81.83047, params: {'alpha': 1e-10, 'eta0': 0.001994751906790116, 'penalty': 'l1'}, mean: -1980.84317, std: 81.94344, params: {'alpha': 1e-10, 'eta0': 0.001994751906790116, 'penalty': 'l2'}, mean: -1980.83068, std: 81.73897, params: {'alpha': 1e-10, 'eta0': 0.001994751906790116, 'penalty': 'elasticnet'}, mean: -1814.94394, std: 75.54564, params: {'alpha': 1e-10, 'eta0': 0.0039790351696428038, 'penalty': 'l1'}, mean: -1814.67609, std: 75.19987, params: {'alpha': 1e-10, 'eta0': 0.0039790351696428038, 'penalty': 'l2'}, mean: -1814.90291, std: 75.82439, params: {'alpha': 1e-10, 'eta0': 0.0039790351696428038, 'penalty': 'elasticnet'}, mean: -1707.54062, std: 71.32014, params: {'alpha': 1e-10, 'eta0': 0.0079371879918299151, 'penalty': 'l1'}, mean: -1705.28460, std: 68.29564, params: {'alpha': 1e-10, 'eta0': 0.0079371879918299151, 'penalty': 'l2'}, mean: -1705.12616, std: 68.36213, params: {'alpha': 1e-10, 'eta0': 0.0079371879918299151, 'penalty': 'elasticnet'}, mean: -1678.53235, std: 61.99617, params: {'alpha': 1e-10, 'eta0': 0.015832720881254335, 'penalty': 'l1'}, mean: -1675.74834, std: 61.74151, params: {'alpha': 1e-10, 'eta0': 0.015832720881254335, 'penalty': 'l2'}, mean: -1676.06394, std: 61.63325, params: {'alpha': 1e-10, 'eta0': 0.015832720881254335, 'penalty': 'elasticnet'}, mean: -1677.87953, std: 61.02004, params: {'alpha': 1e-10, 'eta0': 0.031582350167557775, 'penalty': 'l1'}, mean: -1677.05411, std: 59.46626, params: {'alpha': 1e-10, 'eta0': 0.031582350167557775, 'penalty': 'l2'}, mean: -1677.18841, std: 58.95758, params: {'alpha': 1e-10, 'eta0': 0.031582350167557775, 'penalty': 'elasticnet'}, mean: -1676.20834, std: 55.63624, params: {'alpha': 1e-10, 'eta0': 0.062998953217649006, 'penalty': 'l1'}, mean: -1682.91484, std: 53.57953, params: {'alpha': 1e-10, 'eta0': 0.062998953217649006, 'penalty': 'l2'}, mean: -1687.66336, std: 61.22879, params: {'alpha': 1e-10, 'eta0': 0.062998953217649006, 'penalty': 'elasticnet'}, mean: -1684.45377, std: 59.24303, params: {'alpha': 1e-10, 'eta0': 0.12566728205668667, 'penalty': 'l1'}, mean: -1695.45707, std: 56.47071, params: {'alpha': 1e-10, 'eta0': 0.12566728205668667, 'penalty': 'l2'}, mean: -1678.92591, std: 55.67394, params: {'alpha': 1e-10, 'eta0': 0.12566728205668667, 'penalty': 'elasticnet'}, mean: -1685.82093, std: 56.13508, params: {'alpha': 1e-10, 'eta0': 0.25067505050370709, 'penalty': 'l1'}, mean: -1714.50201, std: 69.45648, params: {'alpha': 1e-10, 'eta0': 0.25067505050370709, 'penalty': 'l2'}, mean: -1713.81879, std: 42.55649, params: {'alpha': 1e-10, 'eta0': 0.25067505050370709, 'penalty': 'elasticnet'}, mean: -1730.65804, std: 91.98559, params: {'alpha': 1e-10, 'eta0': 0.50003453497697847, 'penalty': 'l1'}, mean: -1849.90634, std: 204.48692, params: {'alpha': 1e-10, 'eta0': 0.50003453497697847, 'penalty': 'l2'}, mean: -1739.23155, std: 130.60249, params: {'alpha': 1e-10, 'eta0': 0.50003453497697847, 'penalty': 'elasticnet'}, mean: -2133.27053, std: 84.28051, params: {'alpha': 1.0000000000000001e-09, 'eta0': 0.001, 'penalty': 'l1'}, mean: -2133.36406, std: 84.59829, params: {'alpha': 1.0000000000000001e-09, 'eta0': 0.001, 'penalty': 'l2'}, mean: -2133.14594, std: 84.52253, params: {'alpha': 1.0000000000000001e-09, 'eta0': 0.001, 'penalty': 'elasticnet'}, mean: -1981.26977, std: 81.67589, params: {'alpha': 1.0000000000000001e-09, 'eta0': 0.001994751906790116, 'penalty': 'l1'}, mean: -1981.29917, std: 81.82085, params: {'alpha': 1.0000000000000001e-09, 'eta0': 0.001994751906790116, 'penalty': 'l2'}, mean: -1980.86760, std: 81.57459, params: {'alpha': 1.0000000000000001e-09, 'eta0': 0.001994751906790116, 'penalty': 'elasticnet'}, mean: -1815.33395, std: 76.37090, params: {'alpha': 1.0000000000000001e-09, 'eta0': 0.0039790351696428038, 'penalty': 'l1'}, mean: -1814.52155, std: 75.60647, params: {'alpha': 1.0000000000000001e-09, 'eta0': 0.0039790351696428038, 'penalty': 'l2'}, mean: -1815.72033, std: 76.44093, params: {'alpha': 1.0000000000000001e-09, 'eta0': 0.0039790351696428038, 'penalty': 'elasticnet'}, mean: -1705.62822, std: 68.21695, params: {'alpha': 1.0000000000000001e-09, 'eta0': 0.0079371879918299151, 'penalty': 'l1'}, mean: -1705.15650, std: 68.80377, params: {'alpha': 1.0000000000000001e-09, 'eta0': 0.0079371879918299151, 'penalty': 'l2'}, mean: -1705.96543, std: 67.87546, params: {'alpha': 1.0000000000000001e-09, 'eta0': 0.0079371879918299151, 'penalty': 'elasticnet'}, mean: -1676.77501, std: 61.18295, params: {'alpha': 1.0000000000000001e-09, 'eta0': 0.015832720881254335, 'penalty': 'l1'}, mean: -1676.34735, std: 61.35609, params: {'alpha': 1.0000000000000001e-09, 'eta0': 0.015832720881254335, 'penalty': 'l2'}, mean: -1676.75023, std: 60.41901, params: {'alpha': 1.0000000000000001e-09, 'eta0': 0.015832720881254335, 'penalty': 'elasticnet'}, mean: -1677.08795, std: 59.08398, params: {'alpha': 1.0000000000000001e-09, 'eta0': 0.031582350167557775, 'penalty': 'l1'}, mean: -1676.26106, std: 58.22696, params: {'alpha': 1.0000000000000001e-09, 'eta0': 0.031582350167557775, 'penalty': 'l2'}, mean: -1675.42314, std: 57.71712, params: {'alpha': 1.0000000000000001e-09, 'eta0': 0.031582350167557775, 'penalty': 'elasticnet'}, mean: -1678.38128, std: 59.47619, params: {'alpha': 1.0000000000000001e-09, 'eta0': 0.062998953217649006, 'penalty': 'l1'}, mean: -1678.11203, std: 59.66743, params: {'alpha': 1.0000000000000001e-09, 'eta0': 0.062998953217649006, 'penalty': 'l2'}, mean: -1680.43011, std: 66.25730, params: {'alpha': 1.0000000000000001e-09, 'eta0': 0.062998953217649006, 'penalty': 'elasticnet'}, mean: -1678.37791, std: 60.80469, params: {'alpha': 1.0000000000000001e-09, 'eta0': 0.12566728205668667, 'penalty': 'l1'}, mean: -1678.00848, std: 59.18043, params: {'alpha': 1.0000000000000001e-09, 'eta0': 0.12566728205668667, 'penalty': 'l2'}, mean: -1684.84267, std: 60.07882, params: {'alpha': 1.0000000000000001e-09, 'eta0': 0.12566728205668667, 'penalty': 'elasticnet'}, mean: -1750.15635, std: 109.86792, params: {'alpha': 1.0000000000000001e-09, 'eta0': 0.25067505050370709, 'penalty': 'l1'}, mean: -1686.76697, std: 62.87859, params: {'alpha': 1.0000000000000001e-09, 'eta0': 0.25067505050370709, 'penalty': 'l2'}, mean: -1699.59488, std: 62.00676, params: {'alpha': 1.0000000000000001e-09, 'eta0': 0.25067505050370709, 'penalty': 'elasticnet'}, mean: -1780.05254, std: 142.37919, params: {'alpha': 1.0000000000000001e-09, 'eta0': 0.50003453497697847, 'penalty': 'l1'}, mean: -1705.83263, std: 55.96072, params: {'alpha': 1.0000000000000001e-09, 'eta0': 0.50003453497697847, 'penalty': 'l2'}, mean: -1693.85673, std: 63.99663, params: {'alpha': 1.0000000000000001e-09, 'eta0': 0.50003453497697847, 'penalty': 'elasticnet'}, mean: -2132.91394, std: 84.69464, params: {'alpha': 1e-08, 'eta0': 0.001, 'penalty': 'l1'}, mean: -2133.06766, std: 85.08343, params: {'alpha': 1e-08, 'eta0': 0.001, 'penalty': 'l2'}, mean: -2133.36409, std: 84.16377, params: {'alpha': 1e-08, 'eta0': 0.001, 'penalty': 'elasticnet'}, mean: -1980.52736, std: 82.17868, params: {'alpha': 1e-08, 'eta0': 0.001994751906790116, 'penalty': 'l1'}, mean: -1981.06292, std: 81.39363, params: {'alpha': 1e-08, 'eta0': 0.001994751906790116, 'penalty': 'l2'}, mean: -1981.09521, std: 81.90390, params: {'alpha': 1e-08, 'eta0': 0.001994751906790116, 'penalty': 'elasticnet'}, mean: -1814.74081, std: 76.24900, params: {'alpha': 1e-08, 'eta0': 0.0039790351696428038, 'penalty': 'l1'}, mean: -1814.98209, std: 76.68905, params: {'alpha': 1e-08, 'eta0': 0.0039790351696428038, 'penalty': 'l2'}, mean: -1814.88588, std: 76.41018, params: {'alpha': 1e-08, 'eta0': 0.0039790351696428038, 'penalty': 'elasticnet'}, mean: -1705.81556, std: 67.73088, params: {'alpha': 1e-08, 'eta0': 0.0079371879918299151, 'penalty': 'l1'}, mean: -1705.48540, std: 68.49511, params: {'alpha': 1e-08, 'eta0': 0.0079371879918299151, 'penalty': 'l2'}, mean: -1705.78526, std: 68.75396, params: {'alpha': 1e-08, 'eta0': 0.0079371879918299151, 'penalty': 'elasticnet'}, mean: -1677.55396, std: 61.82748, params: {'alpha': 1e-08, 'eta0': 0.015832720881254335, 'penalty': 'l1'}, mean: -1677.97564, std: 61.09126, params: {'alpha': 1e-08, 'eta0': 0.015832720881254335, 'penalty': 'l2'}, mean: -1677.33255, std: 62.79517, params: {'alpha': 1e-08, 'eta0': 0.015832720881254335, 'penalty': 'elasticnet'}, mean: -1674.52449, std: 59.77791, params: {'alpha': 1e-08, 'eta0': 0.031582350167557775, 'penalty': 'l1'}, mean: -1681.13646, std: 54.61885, params: {'alpha': 1e-08, 'eta0': 0.031582350167557775, 'penalty': 'l2'}, mean: -1679.87179, std: 56.27618, params: {'alpha': 1e-08, 'eta0': 0.031582350167557775, 'penalty': 'elasticnet'}, mean: -1688.62363, std: 62.84317, params: {'alpha': 1e-08, 'eta0': 0.062998953217649006, 'penalty': 'l1'}, mean: -1678.56567, std: 58.59135, params: {'alpha': 1e-08, 'eta0': 0.062998953217649006, 'penalty': 'l2'}, mean: -1677.29182, std: 59.61467, params: {'alpha': 1e-08, 'eta0': 0.062998953217649006, 'penalty': 'elasticnet'}, mean: -1693.90351, std: 52.31948, params: {'alpha': 1e-08, 'eta0': 0.12566728205668667, 'penalty': 'l1'}, mean: -1693.75294, std: 50.21796, params: {'alpha': 1e-08, 'eta0': 0.12566728205668667, 'penalty': 'l2'}, mean: -1683.95084, std: 60.52648, params: {'alpha': 1e-08, 'eta0': 0.12566728205668667, 'penalty': 'elasticnet'}, mean: -1689.41237, std: 64.90322, params: {'alpha': 1e-08, 'eta0': 0.25067505050370709, 'penalty': 'l1'}, mean: -1681.62629, std: 59.41369, params: {'alpha': 1e-08, 'eta0': 0.25067505050370709, 'penalty': 'l2'}, mean: -1709.94962, std: 51.35126, params: {'alpha': 1e-08, 'eta0': 0.25067505050370709, 'penalty': 'elasticnet'}, mean: -1772.22727, std: 111.09394, params: {'alpha': 1e-08, 'eta0': 0.50003453497697847, 'penalty': 'l1'}, mean: -1850.77491, std: 148.29763, params: {'alpha': 1e-08, 'eta0': 0.50003453497697847, 'penalty': 'l2'}, mean: -1837.67957, std: 228.43584, params: {'alpha': 1e-08, 'eta0': 0.50003453497697847, 'penalty': 'elasticnet'}, mean: -2133.25245, std: 84.74594, params: {'alpha': 9.9999999999999995e-08, 'eta0': 0.001, 'penalty': 'l1'}, mean: -2132.60532, std: 84.39358, params: {'alpha': 9.9999999999999995e-08, 'eta0': 0.001, 'penalty': 'l2'}, mean: -2133.23246, std: 84.78605, params: {'alpha': 9.9999999999999995e-08, 'eta0': 0.001, 'penalty': 'elasticnet'}, mean: -1980.63033, std: 81.68355, params: {'alpha': 9.9999999999999995e-08, 'eta0': 0.001994751906790116, 'penalty': 'l1'}, mean: -1981.19374, std: 81.87024, params: {'alpha': 9.9999999999999995e-08, 'eta0': 0.001994751906790116, 'penalty': 'l2'}, mean: -1980.69948, std: 81.88774, params: {'alpha': 9.9999999999999995e-08, 'eta0': 0.001994751906790116, 'penalty': 'elasticnet'}, mean: -1814.51155, std: 76.06198, params: {'alpha': 9.9999999999999995e-08, 'eta0': 0.0039790351696428038, 'penalty': 'l1'}, mean: -1815.56567, std: 76.41880, params: {'alpha': 9.9999999999999995e-08, 'eta0': 0.0039790351696428038, 'penalty': 'l2'}, mean: -1815.27752, std: 76.25811, params: {'alpha': 9.9999999999999995e-08, 'eta0': 0.0039790351696428038, 'penalty': 'elasticnet'}, mean: -1705.43862, std: 68.61012, params: {'alpha': 9.9999999999999995e-08, 'eta0': 0.0079371879918299151, 'penalty': 'l1'}, mean: -1704.93839, std: 68.87095, params: {'alpha': 9.9999999999999995e-08, 'eta0': 0.0079371879918299151, 'penalty': 'l2'}, mean: -1705.09250, std: 68.63103, params: {'alpha': 9.9999999999999995e-08, 'eta0': 0.0079371879918299151, 'penalty': 'elasticnet'}, mean: -1680.97434, std: 59.72357, params: {'alpha': 9.9999999999999995e-08, 'eta0': 0.015832720881254335, 'penalty': 'l1'}, mean: -1676.43970, std: 61.85992, params: {'alpha': 9.9999999999999995e-08, 'eta0': 0.015832720881254335, 'penalty': 'l2'}, mean: -1676.46933, std: 61.55720, params: {'alpha': 9.9999999999999995e-08, 'eta0': 0.015832720881254335, 'penalty': 'elasticnet'}, mean: -1678.85930, std: 57.79419, params: {'alpha': 9.9999999999999995e-08, 'eta0': 0.031582350167557775, 'penalty': 'l1'}, mean: -1675.87468, std: 59.06377, params: {'alpha': 9.9999999999999995e-08, 'eta0': 0.031582350167557775, 'penalty': 'l2'}, mean: -1677.98633, std: 57.63837, params: {'alpha': 9.9999999999999995e-08, 'eta0': 0.031582350167557775, 'penalty': 'elasticnet'}, mean: -1679.74429, std: 57.32377, params: {'alpha': 9.9999999999999995e-08, 'eta0': 0.062998953217649006, 'penalty': 'l1'}, mean: -1680.63843, std: 52.82248, params: {'alpha': 9.9999999999999995e-08, 'eta0': 0.062998953217649006, 'penalty': 'l2'}, mean: -1693.35035, std: 67.85910, params: {'alpha': 9.9999999999999995e-08, 'eta0': 0.062998953217649006, 'penalty': 'elasticnet'}, mean: -1693.98838, std: 58.25272, params: {'alpha': 9.9999999999999995e-08, 'eta0': 0.12566728205668667, 'penalty': 'l1'}, mean: -1699.15427, std: 55.13028, params: {'alpha': 9.9999999999999995e-08, 'eta0': 0.12566728205668667, 'penalty': 'l2'}, mean: -1694.88913, std: 63.02016, params: {'alpha': 9.9999999999999995e-08, 'eta0': 0.12566728205668667, 'penalty': 'elasticnet'}, mean: -1697.13313, std: 63.08721, params: {'alpha': 9.9999999999999995e-08, 'eta0': 0.25067505050370709, 'penalty': 'l1'}, mean: -1693.51489, std: 59.19811, params: {'alpha': 9.9999999999999995e-08, 'eta0': 0.25067505050370709, 'penalty': 'l2'}, mean: -1701.96047, std: 59.90899, params: {'alpha': 9.9999999999999995e-08, 'eta0': 0.25067505050370709, 'penalty': 'elasticnet'}, mean: -1724.67778, std: 65.94454, params: {'alpha': 9.9999999999999995e-08, 'eta0': 0.50003453497697847, 'penalty': 'l1'}, mean: -1732.12154, std: 65.07392, params: {'alpha': 9.9999999999999995e-08, 'eta0': 0.50003453497697847, 'penalty': 'l2'}, mean: -1797.70907, std: 183.33056, params: {'alpha': 9.9999999999999995e-08, 'eta0': 0.50003453497697847, 'penalty': 'elasticnet'}, mean: -2133.31433, std: 85.10596, params: {'alpha': 9.9999999999999995e-07, 'eta0': 0.001, 'penalty': 'l1'}, mean: -2133.40933, std: 84.71436, params: {'alpha': 9.9999999999999995e-07, 'eta0': 0.001, 'penalty': 'l2'}, mean: -2133.48590, std: 84.59201, params: {'alpha': 9.9999999999999995e-07, 'eta0': 0.001, 'penalty': 'elasticnet'}, mean: -1980.55774, std: 81.50916, params: {'alpha': 9.9999999999999995e-07, 'eta0': 0.001994751906790116, 'penalty': 'l1'}, mean: -1981.30882, std: 81.85583, params: {'alpha': 9.9999999999999995e-07, 'eta0': 0.001994751906790116, 'penalty': 'l2'}, mean: -1980.99994, std: 82.76017, params: {'alpha': 9.9999999999999995e-07, 'eta0': 0.001994751906790116, 'penalty': 'elasticnet'}, mean: -1814.94467, std: 76.84620, params: {'alpha': 9.9999999999999995e-07, 'eta0': 0.0039790351696428038, 'penalty': 'l1'}, mean: -1814.19168, std: 75.96634, params: {'alpha': 9.9999999999999995e-07, 'eta0': 0.0039790351696428038, 'penalty': 'l2'}, mean: -1814.55761, std: 76.32630, params: {'alpha': 9.9999999999999995e-07, 'eta0': 0.0039790351696428038, 'penalty': 'elasticnet'}, mean: -1705.13092, std: 68.29797, params: {'alpha': 9.9999999999999995e-07, 'eta0': 0.0079371879918299151, 'penalty': 'l1'}, mean: -1706.66916, std: 68.64246, params: {'alpha': 9.9999999999999995e-07, 'eta0': 0.0079371879918299151, 'penalty': 'l2'}, mean: -1705.77755, std: 67.82876, params: {'alpha': 9.9999999999999995e-07, 'eta0': 0.0079371879918299151, 'penalty': 'elasticnet'}, mean: -1677.06744, std: 62.11685, params: {'alpha': 9.9999999999999995e-07, 'eta0': 0.015832720881254335, 'penalty': 'l1'}, mean: -1678.76007, std: 58.86085, params: {'alpha': 9.9999999999999995e-07, 'eta0': 0.015832720881254335, 'penalty': 'l2'}, mean: -1677.32893, std: 60.19888, params: {'alpha': 9.9999999999999995e-07, 'eta0': 0.015832720881254335, 'penalty': 'elasticnet'}, mean: -1683.57629, std: 58.15508, params: {'alpha': 9.9999999999999995e-07, 'eta0': 0.031582350167557775, 'penalty': 'l1'}, mean: -1680.49768, std: 61.33572, params: {'alpha': 9.9999999999999995e-07, 'eta0': 0.031582350167557775, 'penalty': 'l2'}, mean: -1678.05293, std: 56.67440, params: {'alpha': 9.9999999999999995e-07, 'eta0': 0.031582350167557775, 'penalty': 'elasticnet'}, mean: -1686.60958, std: 55.46762, params: {'alpha': 9.9999999999999995e-07, 'eta0': 0.062998953217649006, 'penalty': 'l1'}, mean: -1680.27847, std: 61.44066, params: {'alpha': 9.9999999999999995e-07, 'eta0': 0.062998953217649006, 'penalty': 'l2'}, mean: -1685.19144, std: 48.71046, params: {'alpha': 9.9999999999999995e-07, 'eta0': 0.062998953217649006, 'penalty': 'elasticnet'}, mean: -1693.12856, std: 61.07992, params: {'alpha': 9.9999999999999995e-07, 'eta0': 0.12566728205668667, 'penalty': 'l1'}, mean: -1692.50616, std: 53.86490, params: {'alpha': 9.9999999999999995e-07, 'eta0': 0.12566728205668667, 'penalty': 'l2'}, mean: -1682.76268, std: 50.17307, params: {'alpha': 9.9999999999999995e-07, 'eta0': 0.12566728205668667, 'penalty': 'elasticnet'}, mean: -1712.77442, std: 70.14257, params: {'alpha': 9.9999999999999995e-07, 'eta0': 0.25067505050370709, 'penalty': 'l1'}, mean: -1704.20305, std: 63.02798, params: {'alpha': 9.9999999999999995e-07, 'eta0': 0.25067505050370709, 'penalty': 'l2'}, mean: -1695.88388, std: 71.51306, params: {'alpha': 9.9999999999999995e-07, 'eta0': 0.25067505050370709, 'penalty': 'elasticnet'}, mean: -1721.09675, std: 89.93662, params: {'alpha': 9.9999999999999995e-07, 'eta0': 0.50003453497697847, 'penalty': 'l1'}, mean: -1736.04287, std: 69.72874, params: {'alpha': 9.9999999999999995e-07, 'eta0': 0.50003453497697847, 'penalty': 'l2'}, mean: -1729.30803, std: 57.41349, params: {'alpha': 9.9999999999999995e-07, 'eta0': 0.50003453497697847, 'penalty': 'elasticnet'}, mean: -2132.84281, std: 84.51079, params: {'alpha': 1.0000000000000001e-05, 'eta0': 0.001, 'penalty': 'l1'}, mean: -2133.55734, std: 85.01940, params: {'alpha': 1.0000000000000001e-05, 'eta0': 0.001, 'penalty': 'l2'}, mean: -2133.22685, std: 84.48929, params: {'alpha': 1.0000000000000001e-05, 'eta0': 0.001, 'penalty': 'elasticnet'}, mean: -1980.40505, std: 81.47927, params: {'alpha': 1.0000000000000001e-05, 'eta0': 0.001994751906790116, 'penalty': 'l1'}, mean: -1981.31182, std: 81.82706, params: {'alpha': 1.0000000000000001e-05, 'eta0': 0.001994751906790116, 'penalty': 'l2'}, mean: -1981.75281, std: 81.75759, params: {'alpha': 1.0000000000000001e-05, 'eta0': 0.001994751906790116, 'penalty': 'elasticnet'}, mean: -1814.50865, std: 76.38966, params: {'alpha': 1.0000000000000001e-05, 'eta0': 0.0039790351696428038, 'penalty': 'l1'}, mean: -1814.44254, std: 75.88955, params: {'alpha': 1.0000000000000001e-05, 'eta0': 0.0039790351696428038, 'penalty': 'l2'}, mean: -1814.30139, std: 75.76744, params: {'alpha': 1.0000000000000001e-05, 'eta0': 0.0039790351696428038, 'penalty': 'elasticnet'}, mean: -1705.54174, std: 68.20866, params: {'alpha': 1.0000000000000001e-05, 'eta0': 0.0079371879918299151, 'penalty': 'l1'}, mean: -1705.69855, std: 68.58269, params: {'alpha': 1.0000000000000001e-05, 'eta0': 0.0079371879918299151, 'penalty': 'l2'}, mean: -1705.87751, std: 68.43306, params: {'alpha': 1.0000000000000001e-05, 'eta0': 0.0079371879918299151, 'penalty': 'elasticnet'}, mean: -1675.99856, std: 61.41122, params: {'alpha': 1.0000000000000001e-05, 'eta0': 0.015832720881254335, 'penalty': 'l1'}, mean: -1678.66751, std: 62.20964, params: {'alpha': 1.0000000000000001e-05, 'eta0': 0.015832720881254335, 'penalty': 'l2'}, mean: -1678.49315, std: 62.43984, params: {'alpha': 1.0000000000000001e-05, 'eta0': 0.015832720881254335, 'penalty': 'elasticnet'}, mean: -1677.69416, std: 53.84564, params: {'alpha': 1.0000000000000001e-05, 'eta0': 0.031582350167557775, 'penalty': 'l1'}, mean: -1678.70490, std: 60.30001, params: {'alpha': 1.0000000000000001e-05, 'eta0': 0.031582350167557775, 'penalty': 'l2'}, mean: -1682.35983, std: 61.19122, params: {'alpha': 1.0000000000000001e-05, 'eta0': 0.031582350167557775, 'penalty': 'elasticnet'}, mean: -1676.40991, std: 58.30731, params: {'alpha': 1.0000000000000001e-05, 'eta0': 0.062998953217649006, 'penalty': 'l1'}, mean: -1681.00761, std: 57.41571, params: {'alpha': 1.0000000000000001e-05, 'eta0': 0.062998953217649006, 'penalty': 'l2'}, mean: -1688.39543, std: 53.87738, params: {'alpha': 1.0000000000000001e-05, 'eta0': 0.062998953217649006, 'penalty': 'elasticnet'}, mean: -1690.14619, std: 77.52060, params: {'alpha': 1.0000000000000001e-05, 'eta0': 0.12566728205668667, 'penalty': 'l1'}, mean: -1688.21647, std: 60.45554, params: {'alpha': 1.0000000000000001e-05, 'eta0': 0.12566728205668667, 'penalty': 'l2'}, mean: -1690.37289, std: 60.68192, params: {'alpha': 1.0000000000000001e-05, 'eta0': 0.12566728205668667, 'penalty': 'elasticnet'}, mean: -1702.54241, std: 73.98090, params: {'alpha': 1.0000000000000001e-05, 'eta0': 0.25067505050370709, 'penalty': 'l1'}, mean: -1716.84526, std: 85.24649, params: {'alpha': 1.0000000000000001e-05, 'eta0': 0.25067505050370709, 'penalty': 'l2'}, mean: -1720.52522, std: 63.23653, params: {'alpha': 1.0000000000000001e-05, 'eta0': 0.25067505050370709, 'penalty': 'elasticnet'}, mean: -1786.28690, std: 120.42603, params: {'alpha': 1.0000000000000001e-05, 'eta0': 0.50003453497697847, 'penalty': 'l1'}, mean: -1787.24138, std: 132.12604, params: {'alpha': 1.0000000000000001e-05, 'eta0': 0.50003453497697847, 'penalty': 'l2'}, mean: -1722.77432, std: 129.36122, params: {'alpha': 1.0000000000000001e-05, 'eta0': 0.50003453497697847, 'penalty': 'elasticnet'}, mean: -2133.14657, std: 84.69274, params: {'alpha': 0.0001, 'eta0': 0.001, 'penalty': 'l1'}, mean: -2133.25626, std: 84.56807, params: {'alpha': 0.0001, 'eta0': 0.001, 'penalty': 'l2'}, mean: -2133.03703, std: 84.60014, params: {'alpha': 0.0001, 'eta0': 0.001, 'penalty': 'elasticnet'}, mean: -1980.08488, std: 81.70630, params: {'alpha': 0.0001, 'eta0': 0.001994751906790116, 'penalty': 'l1'}, mean: -1980.89158, std: 81.26281, params: {'alpha': 0.0001, 'eta0': 0.001994751906790116, 'penalty': 'l2'}, mean: -1980.76746, std: 81.75680, params: {'alpha': 0.0001, 'eta0': 0.001994751906790116, 'penalty': 'elasticnet'}, mean: -1814.96017, std: 76.73138, params: {'alpha': 0.0001, 'eta0': 0.0039790351696428038, 'penalty': 'l1'}, mean: -1815.15738, std: 76.40870, params: {'alpha': 0.0001, 'eta0': 0.0039790351696428038, 'penalty': 'l2'}, mean: -1816.01969, std: 76.45701, params: {'alpha': 0.0001, 'eta0': 0.0039790351696428038, 'penalty': 'elasticnet'}, mean: -1705.44995, std: 68.70130, params: {'alpha': 0.0001, 'eta0': 0.0079371879918299151, 'penalty': 'l1'}, mean: -1706.21132, std: 68.60855, params: {'alpha': 0.0001, 'eta0': 0.0079371879918299151, 'penalty': 'l2'}, mean: -1705.51281, std: 68.88463, params: {'alpha': 0.0001, 'eta0': 0.0079371879918299151, 'penalty': 'elasticnet'}, mean: -1676.58076, std: 61.68301, params: {'alpha': 0.0001, 'eta0': 0.015832720881254335, 'penalty': 'l1'}, mean: -1676.69005, std: 61.81845, params: {'alpha': 0.0001, 'eta0': 0.015832720881254335, 'penalty': 'l2'}, mean: -1676.31694, std: 61.38218, params: {'alpha': 0.0001, 'eta0': 0.015832720881254335, 'penalty': 'elasticnet'}, mean: -1674.40880, std: 59.51802, params: {'alpha': 0.0001, 'eta0': 0.031582350167557775, 'penalty': 'l1'}, mean: -1676.56712, std: 59.38763, params: {'alpha': 0.0001, 'eta0': 0.031582350167557775, 'penalty': 'l2'}, mean: -1676.01791, std: 61.12853, params: {'alpha': 0.0001, 'eta0': 0.031582350167557775, 'penalty': 'elasticnet'}, mean: -1681.27397, std: 60.80580, params: {'alpha': 0.0001, 'eta0': 0.062998953217649006, 'penalty': 'l1'}, mean: -1675.90850, std: 57.55423, params: {'alpha': 0.0001, 'eta0': 0.062998953217649006, 'penalty': 'l2'}, mean: -1677.58449, std: 60.15279, params: {'alpha': 0.0001, 'eta0': 0.062998953217649006, 'penalty': 'elasticnet'}, mean: -1686.73978, std: 57.32771, params: {'alpha': 0.0001, 'eta0': 0.12566728205668667, 'penalty': 'l1'}, mean: -1719.34693, std: 53.33829, params: {'alpha': 0.0001, 'eta0': 0.12566728205668667, 'penalty': 'l2'}, mean: -1680.04206, std: 57.45714, params: {'alpha': 0.0001, 'eta0': 0.12566728205668667, 'penalty': 'elasticnet'}, mean: -1725.46733, std: 73.02059, params: {'alpha': 0.0001, 'eta0': 0.25067505050370709, 'penalty': 'l1'}, mean: -1707.48088, std: 62.57811, params: {'alpha': 0.0001, 'eta0': 0.25067505050370709, 'penalty': 'l2'}, mean: -1690.29547, std: 77.42193, params: {'alpha': 0.0001, 'eta0': 0.25067505050370709, 'penalty': 'elasticnet'}, mean: -1756.75628, std: 107.71612, params: {'alpha': 0.0001, 'eta0': 0.50003453497697847, 'penalty': 'l1'}, mean: -1724.27418, std: 97.52409, params: {'alpha': 0.0001, 'eta0': 0.50003453497697847, 'penalty': 'l2'}, mean: -1752.55649, std: 120.01060, params: {'alpha': 0.0001, 'eta0': 0.50003453497697847, 'penalty': 'elasticnet'}, mean: -2133.72601, std: 84.45852, params: {'alpha': 0.001, 'eta0': 0.001, 'penalty': 'l1'}, mean: -2133.80944, std: 84.29617, params: {'alpha': 0.001, 'eta0': 0.001, 'penalty': 'l2'}, mean: -2133.58700, std: 84.49732, params: {'alpha': 0.001, 'eta0': 0.001, 'penalty': 'elasticnet'}, mean: -1981.40090, std: 82.04794, params: {'alpha': 0.001, 'eta0': 0.001994751906790116, 'penalty': 'l1'}, mean: -1982.76882, std: 81.75676, params: {'alpha': 0.001, 'eta0': 0.001994751906790116, 'penalty': 'l2'}, mean: -1982.42325, std: 81.90244, params: {'alpha': 0.001, 'eta0': 0.001994751906790116, 'penalty': 'elasticnet'}, mean: -1815.42693, std: 76.56147, params: {'alpha': 0.001, 'eta0': 0.0039790351696428038, 'penalty': 'l1'}, mean: -1819.70370, std: 76.40035, params: {'alpha': 0.001, 'eta0': 0.0039790351696428038, 'penalty': 'l2'}, mean: -1817.68525, std: 76.23331, params: {'alpha': 0.001, 'eta0': 0.0039790351696428038, 'penalty': 'elasticnet'}, mean: -1704.98408, std: 68.32239, params: {'alpha': 0.001, 'eta0': 0.0079371879918299151, 'penalty': 'l1'}, mean: -1710.00292, std: 68.13158, params: {'alpha': 0.001, 'eta0': 0.0079371879918299151, 'penalty': 'l2'}, mean: -1708.28774, std: 68.63545, params: {'alpha': 0.001, 'eta0': 0.0079371879918299151, 'penalty': 'elasticnet'}, mean: -1677.13023, std: 62.18467, params: {'alpha': 0.001, 'eta0': 0.015832720881254335, 'penalty': 'l1'}, mean: -1681.16456, std: 60.09370, params: {'alpha': 0.001, 'eta0': 0.015832720881254335, 'penalty': 'l2'}, mean: -1677.84168, std: 62.20783, params: {'alpha': 0.001, 'eta0': 0.015832720881254335, 'penalty': 'elasticnet'}, mean: -1678.11574, std: 59.51966, params: {'alpha': 0.001, 'eta0': 0.031582350167557775, 'penalty': 'l1'}, mean: -1679.20775, std: 55.44072, params: {'alpha': 0.001, 'eta0': 0.031582350167557775, 'penalty': 'l2'}, mean: -1676.66431, std: 59.92023, params: {'alpha': 0.001, 'eta0': 0.031582350167557775, 'penalty': 'elasticnet'}, mean: -1681.62072, std: 55.25924, params: {'alpha': 0.001, 'eta0': 0.062998953217649006, 'penalty': 'l1'}, mean: -1685.31715, std: 66.58472, params: {'alpha': 0.001, 'eta0': 0.062998953217649006, 'penalty': 'l2'}, mean: -1675.29707, std: 57.79980, params: {'alpha': 0.001, 'eta0': 0.062998953217649006, 'penalty': 'elasticnet'}, mean: -1702.51754, std: 52.41649, params: {'alpha': 0.001, 'eta0': 0.12566728205668667, 'penalty': 'l1'}, mean: -1680.69971, std: 59.30606, params: {'alpha': 0.001, 'eta0': 0.12566728205668667, 'penalty': 'l2'}, mean: -1685.38897, std: 64.58337, params: {'alpha': 0.001, 'eta0': 0.12566728205668667, 'penalty': 'elasticnet'}, mean: -1733.09656, std: 89.48123, params: {'alpha': 0.001, 'eta0': 0.25067505050370709, 'penalty': 'l1'}, mean: -1690.93186, std: 56.65861, params: {'alpha': 0.001, 'eta0': 0.25067505050370709, 'penalty': 'l2'}, mean: -1706.04599, std: 54.10402, params: {'alpha': 0.001, 'eta0': 0.25067505050370709, 'penalty': 'elasticnet'}, mean: -1772.49085, std: 95.94238, params: {'alpha': 0.001, 'eta0': 0.50003453497697847, 'penalty': 'l1'}, mean: -1725.93740, std: 32.64443, params: {'alpha': 0.001, 'eta0': 0.50003453497697847, 'penalty': 'l2'}, mean: -1802.10984, std: 45.45325, params: {'alpha': 0.001, 'eta0': 0.50003453497697847, 'penalty': 'elasticnet'}, mean: -2133.75518, std: 84.19644, params: {'alpha': 0.01, 'eta0': 0.001, 'penalty': 'l1'}, mean: -2138.98751, std: 84.60068, params: {'alpha': 0.01, 'eta0': 0.001, 'penalty': 'l2'}, mean: -2137.95016, std: 84.41903, params: {'alpha': 0.01, 'eta0': 0.001, 'penalty': 'elasticnet'}, mean: -1981.60394, std: 81.87255, params: {'alpha': 0.01, 'eta0': 0.001994751906790116, 'penalty': 'l1'}, mean: -1996.27679, std: 81.78646, params: {'alpha': 0.01, 'eta0': 0.001994751906790116, 'penalty': 'l2'}, mean: -1994.72776, std: 81.81343, params: {'alpha': 0.01, 'eta0': 0.001994751906790116, 'penalty': 'elasticnet'}, mean: -1814.89578, std: 76.18396, params: {'alpha': 0.01, 'eta0': 0.0039790351696428038, 'penalty': 'l1'}, mean: -1846.54776, std: 77.26112, params: {'alpha': 0.01, 'eta0': 0.0039790351696428038, 'penalty': 'l2'}, mean: -1841.84189, std: 77.31248, params: {'alpha': 0.01, 'eta0': 0.0039790351696428038, 'penalty': 'elasticnet'}, mean: -1706.91121, std: 68.72965, params: {'alpha': 0.01, 'eta0': 0.0079371879918299151, 'penalty': 'l1'}, mean: -1747.41752, std: 72.40848, params: {'alpha': 0.01, 'eta0': 0.0079371879918299151, 'penalty': 'l2'}, mean: -1740.43952, std: 71.31836, params: {'alpha': 0.01, 'eta0': 0.0079371879918299151, 'penalty': 'elasticnet'}, mean: -1676.79878, std: 62.41932, params: {'alpha': 0.01, 'eta0': 0.015832720881254335, 'penalty': 'l1'}, mean: -1713.13795, std: 67.52773, params: {'alpha': 0.01, 'eta0': 0.015832720881254335, 'penalty': 'l2'}, mean: -1706.89450, std: 69.10586, params: {'alpha': 0.01, 'eta0': 0.015832720881254335, 'penalty': 'elasticnet'}, mean: -1674.90908, std: 60.34313, params: {'alpha': 0.01, 'eta0': 0.031582350167557775, 'penalty': 'l1'}, mean: -1716.39696, std: 62.89784, params: {'alpha': 0.01, 'eta0': 0.031582350167557775, 'penalty': 'l2'}, mean: -1705.34991, std: 64.69594, params: {'alpha': 0.01, 'eta0': 0.031582350167557775, 'penalty': 'elasticnet'}, mean: -1685.41817, std: 60.57681, params: {'alpha': 0.01, 'eta0': 0.062998953217649006, 'penalty': 'l1'}, mean: -1714.76148, std: 74.33406, params: {'alpha': 0.01, 'eta0': 0.062998953217649006, 'penalty': 'l2'}, mean: -1707.43090, std: 70.50803, params: {'alpha': 0.01, 'eta0': 0.062998953217649006, 'penalty': 'elasticnet'}, mean: -1679.94747, std: 59.46495, params: {'alpha': 0.01, 'eta0': 0.12566728205668667, 'penalty': 'l1'}, mean: -1731.85334, std: 56.91675, params: {'alpha': 0.01, 'eta0': 0.12566728205668667, 'penalty': 'l2'}, mean: -1709.13889, std: 59.34732, params: {'alpha': 0.01, 'eta0': 0.12566728205668667, 'penalty': 'elasticnet'}, mean: -1720.95613, std: 52.81663, params: {'alpha': 0.01, 'eta0': 0.25067505050370709, 'penalty': 'l1'}, mean: -1723.70704, std: 65.12989, params: {'alpha': 0.01, 'eta0': 0.25067505050370709, 'penalty': 'l2'}, mean: -1703.20902, std: 69.41438, params: {'alpha': 0.01, 'eta0': 0.25067505050370709, 'penalty': 'elasticnet'}, mean: -1724.54185, std: 77.63830, params: {'alpha': 0.01, 'eta0': 0.50003453497697847, 'penalty': 'l1'}, mean: -1782.01196, std: 102.26181, params: {'alpha': 0.01, 'eta0': 0.50003453497697847, 'penalty': 'l2'}, mean: -1746.23771, std: 117.81759, params: {'alpha': 0.01, 'eta0': 0.50003453497697847, 'penalty': 'elasticnet'}, mean: -2139.38975, std: 84.66603, params: {'alpha': 0.10000000000000001, 'eta0': 0.001, 'penalty': 'l1'}, mean: -2185.75645, std: 84.32147, params: {'alpha': 0.10000000000000001, 'eta0': 0.001, 'penalty': 'l2'}, mean: -2179.76290, std: 84.35338, params: {'alpha': 0.10000000000000001, 'eta0': 0.001, 'penalty': 'elasticnet'}, mean: -1989.25450, std: 82.57197, params: {'alpha': 0.10000000000000001, 'eta0': 0.001994751906790116, 'penalty': 'l1'}, mean: -2110.75281, std: 82.16866, params: {'alpha': 0.10000000000000001, 'eta0': 0.001994751906790116, 'penalty': 'l2'}, mean: -2095.84726, std: 81.91278, params: {'alpha': 0.10000000000000001, 'eta0': 0.001994751906790116, 'penalty': 'elasticnet'}, mean: -1823.63944, std: 76.06947, params: {'alpha': 0.10000000000000001, 'eta0': 0.0039790351696428038, 'penalty': 'l1'}, mean: -2065.11057, std: 79.81721, params: {'alpha': 0.10000000000000001, 'eta0': 0.0039790351696428038, 'penalty': 'l2'}, mean: -2038.30885, std: 80.44889, params: {'alpha': 0.10000000000000001, 'eta0': 0.0039790351696428038, 'penalty': 'elasticnet'}, mean: -1711.65340, std: 69.18308, params: {'alpha': 0.10000000000000001, 'eta0': 0.0079371879918299151, 'penalty': 'l1'}, mean: -2055.38165, std: 80.52041, params: {'alpha': 0.10000000000000001, 'eta0': 0.0079371879918299151, 'penalty': 'l2'}, mean: -2020.93723, std: 78.85919, params: {'alpha': 0.10000000000000001, 'eta0': 0.0079371879918299151, 'penalty': 'elasticnet'}, mean: -1679.09971, std: 62.84917, params: {'alpha': 0.10000000000000001, 'eta0': 0.015832720881254335, 'penalty': 'l1'}, mean: -2056.26477, std: 78.19153, params: {'alpha': 0.10000000000000001, 'eta0': 0.015832720881254335, 'penalty': 'l2'}, mean: -2023.27040, std: 78.36884, params: {'alpha': 0.10000000000000001, 'eta0': 0.015832720881254335, 'penalty': 'elasticnet'}, mean: -1676.30041, std: 60.96504, params: {'alpha': 0.10000000000000001, 'eta0': 0.031582350167557775, 'penalty': 'l1'}, mean: -2055.09104, std: 76.39432, params: {'alpha': 0.10000000000000001, 'eta0': 0.031582350167557775, 'penalty': 'l2'}, mean: -2022.48876, std: 80.44899, params: {'alpha': 0.10000000000000001, 'eta0': 0.031582350167557775, 'penalty': 'elasticnet'}, mean: -1678.78450, std: 58.82496, params: {'alpha': 0.10000000000000001, 'eta0': 0.062998953217649006, 'penalty': 'l1'}, mean: -2057.43273, std: 74.52267, params: {'alpha': 0.10000000000000001, 'eta0': 0.062998953217649006, 'penalty': 'l2'}, mean: -2026.96495, std: 70.59286, params: {'alpha': 0.10000000000000001, 'eta0': 0.062998953217649006, 'penalty': 'elasticnet'}, mean: -1677.76334, std: 61.15596, params: {'alpha': 0.10000000000000001, 'eta0': 0.12566728205668667, 'penalty': 'l1'}, mean: -2052.62462, std: 78.75655, params: {'alpha': 0.10000000000000001, 'eta0': 0.12566728205668667, 'penalty': 'l2'}, mean: -2042.27540, std: 103.37609, params: {'alpha': 0.10000000000000001, 'eta0': 0.12566728205668667, 'penalty': 'elasticnet'}, mean: -1697.77568, std: 73.62374, params: {'alpha': 0.10000000000000001, 'eta0': 0.25067505050370709, 'penalty': 'l1'}, mean: -2075.14493, std: 73.21334, params: {'alpha': 0.10000000000000001, 'eta0': 0.25067505050370709, 'penalty': 'l2'}, mean: -2046.09417, std: 101.37329, params: {'alpha': 0.10000000000000001, 'eta0': 0.25067505050370709, 'penalty': 'elasticnet'}, mean: -1793.26200, std: 177.21405, params: {'alpha': 0.10000000000000001, 'eta0': 0.50003453497697847, 'penalty': 'l1'}, mean: -2132.77079, std: 117.28668, params: {'alpha': 0.10000000000000001, 'eta0': 0.50003453497697847, 'penalty': 'l2'}, mean: -2101.12348, std: 102.41745, params: {'alpha': 0.10000000000000001, 'eta0': 0.50003453497697847, 'penalty': 'elasticnet'}]\n"
     ]
    }
   ],
   "source": [
    "params = {'alpha': np.logspace(-10,-1,10), 'penalty':['l1','l2','elasticnet'], 'eta0': np.logspace(-3,-0.301, 10)}\n",
    "gs = grid_search.GridSearchCV(\n",
    "    estimator=linear_model.SGDRegressor(),\n",
    "    cv=cross_validation.KFold(len(modeldata), n_folds=5, shuffle=True),\n",
    "    param_grid=params,\n",
    "    scoring='neg_mean_squared_error',\n",
    "    )\n",
    "\n",
    "gs.fit(modeldata, y)\n",
    "\n",
    "print ('BEST ESTIMATOR')\n",
    "print (gs.best_score_)\n",
    "print (gs.best_estimator_)\n",
    "print ('ALL ESTIMATORS')\n",
    "print (gs.grid_scores_)"
   ]
  },
  {
   "cell_type": "code",
   "execution_count": 19,
   "metadata": {
    "collapsed": true
   },
   "outputs": [],
   "source": [
    "## go for it!"
   ]
  },
  {
   "cell_type": "code",
   "execution_count": null,
   "metadata": {
    "collapsed": true
   },
   "outputs": [],
   "source": [
    "?li"
   ]
  }
 ],
 "metadata": {
  "kernelspec": {
   "display_name": "Python 3",
   "language": "python",
   "name": "python3"
  },
  "language_info": {
   "codemirror_mode": {
    "name": "ipython",
    "version": 3
   },
   "file_extension": ".py",
   "mimetype": "text/x-python",
   "name": "python",
   "nbconvert_exporter": "python",
   "pygments_lexer": "ipython3",
   "version": "3.6.2"
  }
 },
 "nbformat": 4,
 "nbformat_minor": 1
}
